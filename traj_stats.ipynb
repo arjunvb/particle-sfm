{
 "cells": [
  {
   "cell_type": "code",
   "execution_count": 1,
   "id": "1f9bfc15-7ee9-4e06-be88-65e59bf33ced",
   "metadata": {},
   "outputs": [],
   "source": [
    "import numpy as np\n",
    "import pickle\n",
    "import imageio.v2 as imageio\n",
    "import cv2\n",
    "import sys\n",
    "\n",
    "sys.path.append(\"../\")\n",
    "from utils import data_utils, calc_utils\n",
    "from speed import coord"
   ]
  },
  {
   "cell_type": "markdown",
   "id": "b85cba40-d816-4052-b756-c954aa09e1b6",
   "metadata": {},
   "source": [
    "## Load ground truth data"
   ]
  },
  {
   "cell_type": "code",
   "execution_count": 2,
   "id": "57aad5cb-6307-408d-848f-03e0e993f8c4",
   "metadata": {},
   "outputs": [],
   "source": [
    "def load_ground_truth(track_idx):\n",
    "    pkl_path = f\"/data2/speed-lyft/tracks/track_{track_idx}.pkl\"\n",
    "    with open(pkl_path, \"rb\") as f:\n",
    "        track = pickle.load(f)\n",
    "\n",
    "    gt_velocity_mps = []\n",
    "    for t in track[\"track_frames\"]:\n",
    "        gt_velocity_mps.append(t[\"velocity_mps\"])\n",
    "    gt_velocity_mps = np.array(gt_velocity_mps)\n",
    "\n",
    "    for i, t in enumerate(track[\"track_frames\"]):\n",
    "        if i == 0:\n",
    "            track[\"track_frames\"][0][\"ego_velocity_mps\"] = None\n",
    "        else:\n",
    "            src = np.array(track[\"track_frames\"][i - 1][\"ego_pose_translation\"])\n",
    "            dst = np.array(t[\"ego_pose_translation\"])\n",
    "            velocity_mps = np.linalg.norm(dst - src)\n",
    "            track[\"track_frames\"][i][\"ego_velocity_mps\"] = velocity_mps\n",
    "\n",
    "    ego_velocity = [t[\"ego_velocity_mps\"] for t in track[\"track_frames\"]]\n",
    "    ego_velocity = np.array(ego_velocity[1:])\n",
    "\n",
    "    intrinsic_mat = track[\"track_frames\"][0][\"intrinsic\"]\n",
    "    intrinsic = {\n",
    "        \"cx\": intrinsic_mat[0][2],\n",
    "        \"cy\": intrinsic_mat[1][2],\n",
    "        \"focalx\": intrinsic_mat[0][0],\n",
    "        \"focaly\": intrinsic_mat[1][1],\n",
    "    }\n",
    "    \n",
    "    return track, gt_velocity_mps, ego_velocity, intrinsic"
   ]
  },
  {
   "cell_type": "markdown",
   "id": "2459240e-aad4-4c4d-aefe-7daed0974f2b",
   "metadata": {},
   "source": [
    "## Load trajectory"
   ]
  },
  {
   "cell_type": "code",
   "execution_count": 3,
   "id": "f67a48d2-7851-4bac-8bd3-1996a947af92",
   "metadata": {},
   "outputs": [],
   "source": [
    "def load_trajectory(track_idx, idx_range):\n",
    "    traj_path = f\"./outputs/lyft_track_{track_idx}/trajectories/track.npy\"\n",
    "    with open(traj_path, \"rb\") as f:\n",
    "        trajectories = np.load(f, allow_pickle=True).item()\n",
    "    trajectories.build_invert_indexes()\n",
    "\n",
    "    traj = trajectories.sample_inside_window(\n",
    "        idx_range.tolist(),\n",
    "        min_length=3,\n",
    "        max_num_tracks=300,\n",
    "    )\n",
    "\n",
    "    # Extract traj locs, mask, ids\n",
    "    xy = np.concatenate(\n",
    "        [traj[\"locations\"][0][:, :, None], traj[\"locations\"][1][:, :, None]],\n",
    "        2,\n",
    "    )\n",
    "\n",
    "    mask = traj[\"masks\"].astype(float)[:, :, None]\n",
    "    ids = np.array(traj[\"traj_ids\"])\n",
    "    \n",
    "    return xy, mask, ids"
   ]
  },
  {
   "cell_type": "markdown",
   "id": "783d3c75-1a44-478c-b5a3-bdc59d609bb3",
   "metadata": {},
   "source": [
    "## Load frames"
   ]
  },
  {
   "cell_type": "code",
   "execution_count": 4,
   "id": "6868ac2a-a982-442d-b7a6-3fe71eaae84d",
   "metadata": {},
   "outputs": [],
   "source": [
    "dim = (1024, 1224)\n",
    "\n",
    "def load_frames(track):\n",
    "    rgbs, deps = [], []\n",
    "    for frame in track[\"track_frames\"]:\n",
    "        # Load rgb\n",
    "        im = imageio.imread(frame[\"rgb_path\"]).astype(np.uint8)\n",
    "        im_shape = im.shape\n",
    "        im = cv2.resize(im, dim)\n",
    "\n",
    "        # Load dep\n",
    "        dep = data_utils.create_depth_frame(\n",
    "            frame[\"dep_path\"],\n",
    "            disparity=True,\n",
    "            dim=im_shape[:2],\n",
    "        ).astype(np.uint8)\n",
    "        dep.resize(dim + (3,))\n",
    "\n",
    "        rgbs.append(im)\n",
    "        deps.append(dep)\n",
    "    \n",
    "    return rgbs, deps"
   ]
  },
  {
   "cell_type": "markdown",
   "id": "72033c17-8b52-4512-903d-8f66b03cfd65",
   "metadata": {},
   "source": [
    "## Process trajectories"
   ]
  },
  {
   "cell_type": "markdown",
   "id": "72b21808-51cd-45b6-9b8f-3a8be9ef699a",
   "metadata": {},
   "source": [
    "### Convert 2D pixel -> 3D coordinate"
   ]
  },
  {
   "cell_type": "code",
   "execution_count": 9,
   "id": "e9682365-ecc1-45f2-8354-f128495f4140",
   "metadata": {},
   "outputs": [],
   "source": [
    "def convert_to_3d(frame, pix, dep):\n",
    "    pt = calc_utils.uvd_to_xyz(pix[0], pix[1], dep, intrinsic)\n",
    "    \n",
    "    cam_rot = coord.convert_quarternion(frame[\"cam_pose_rotation\"])\n",
    "    ego_rot = coord.convert_quarternion(frame[\"ego_pose_rotation\"])\n",
    "    rot = cam_rot * ego_rot\n",
    "    \n",
    "    cam_trans = np.array(frame[\"cam_pose_translation\"])\n",
    "    ego_trans = np.array(frame[\"ego_pose_translation\"])\n",
    "    trans = cam_trans + ego_trans\n",
    "    \n",
    "    pt = coord.transform(pt, rot, trans)\n",
    "    return pt"
   ]
  },
  {
   "cell_type": "code",
   "execution_count": 38,
   "id": "6fdb0203-f8d6-41e2-8b13-052ab531c982",
   "metadata": {},
   "outputs": [],
   "source": [
    "def process_trajectory(track, xy, idx_range, ego_velocity, intrinsic):\n",
    "    N = xy.shape[0]\n",
    "    L = xy.shape[1]\n",
    "\n",
    "    traj_list = []\n",
    "    track_frames = track[\"track_frames\"]\n",
    "\n",
    "    rgbs, deps = load_frames(track)\n",
    "\n",
    "    # trajectory index\n",
    "    for i in range(N):\n",
    "        single_traj = xy[i]\n",
    "        single_mask = mask[i]\n",
    "\n",
    "        # timestep\n",
    "        frame_list, pts_list = [], []\n",
    "        src_px = None\n",
    "        prev = None\n",
    "        for j in range(L):\n",
    "            if prev is None and single_mask[j] == 1:\n",
    "                prev = single_traj[j].astype(int)\n",
    "            elif prev is not None and single_mask[j] == 1:\n",
    "                src = prev\n",
    "                dst = single_traj[j].astype(int)\n",
    "\n",
    "                if src_px is None:\n",
    "                    src_px = src\n",
    "\n",
    "                frame_idx = idx_range[j]\n",
    "                rgb = rgbs[frame_idx]\n",
    "                dep = deps[frame_idx]\n",
    "                frame = track_frames[frame_idx]\n",
    "\n",
    "                src_3d = convert_to_3d(frame, src, dep[src[1], src[0]])\n",
    "                dst_3d = convert_to_3d(frame, dst, dep[dst[1], dst[0]])\n",
    "                pts_list += [dst_3d]\n",
    "                frame_list += [frame_idx]\n",
    "\n",
    "                prev = dst\n",
    "\n",
    "        src, dst = pts_list[0], pts_list[-1]\n",
    "        start_idx, end_idx = frame_list[0], frame_list[-1]\n",
    "\n",
    "        displacement_m = np.linalg.norm(dst - src)\n",
    "        start_ts = track_frames[start_idx][\"timestamp\"]\n",
    "        end_ts = track_frames[end_idx][\"timestamp\"]\n",
    "        duration_sec = end_ts - start_ts\n",
    "        speed_mps = displacement_m / duration_sec + ego_velocity.mean()\n",
    "\n",
    "        traj_list.append(\n",
    "            {\n",
    "                \"traj_idx\": i,\n",
    "                \"src_px\": src_px,\n",
    "                \"speed_mps\": speed_mps,\n",
    "                \"duration_sec\": duration_sec,\n",
    "                \"length_frames\": len(frame_list),\n",
    "                \"start_ts\": start_ts,\n",
    "                \"end_ts\": end_ts,\n",
    "                \"start_idx\": start_idx,\n",
    "                \"end_idx\": end_idx,\n",
    "            }\n",
    "        )\n",
    "    \n",
    "    return traj_list"
   ]
  },
  {
   "cell_type": "markdown",
   "id": "9759358d-376d-4d6f-9f3e-79e5d139ca47",
   "metadata": {},
   "source": [
    "### Extract trajectory stats\n",
    "Before running this notebook, you need to:\n",
    "1. Change to the particlesfm evn: `conda activate particlesfm`\n",
    "2. Run load_frames.py to copy the frames to the local folder, e.g.,:\n",
    "```\n",
    "python load_frames.py --track 92\n",
    "```\n",
    "3. Run particlesfm, e.g.,:\n",
    "```\n",
    "python run_particlesfm.py --image_dir ./example/lyft_track_92 --output_dir ./outputs/lyft_track_92 --keep_intermediate\n",
    "```"
   ]
  },
  {
   "cell_type": "code",
   "execution_count": 65,
   "id": "af362efa-7183-4e02-81b9-9a21c6f9b852",
   "metadata": {},
   "outputs": [],
   "source": [
    "track_idx = 17\n",
    "frame_idx_range = np.array(np.arange(0, 100))\n",
    "track, gt_velocity_mps, ego_velocity, intrinsic = load_ground_truth(track_idx)\n",
    "xy, mask, ids = load_trajectory(track_idx, frame_idx_range)\n",
    "traj_list = process_trajectory(track, xy, frame_idx_range, ego_velocity, intrinsic)"
   ]
  },
  {
   "cell_type": "markdown",
   "id": "b056518e-a61a-487c-835f-5ea3d5fee15a",
   "metadata": {},
   "source": [
    "## Plots"
   ]
  },
  {
   "cell_type": "code",
   "execution_count": 57,
   "id": "d3169dfc-2176-45b8-bf53-f7d235294f3d",
   "metadata": {},
   "outputs": [],
   "source": [
    "import seaborn as sns\n",
    "import pandas as pd\n",
    "import matplotlib.pyplot as plt"
   ]
  },
  {
   "cell_type": "code",
   "execution_count": 58,
   "id": "97f5d9df-006c-4ab3-a7e3-362e366afa50",
   "metadata": {},
   "outputs": [],
   "source": [
    "df = pd.DataFrame.from_dict(traj_list)\n",
    "df = df[df[\"duration_sec\"] >= 1]"
   ]
  },
  {
   "cell_type": "code",
   "execution_count": 59,
   "id": "6096ef8b-0589-48c3-8d96-8a11d6a2303f",
   "metadata": {},
   "outputs": [
    {
     "data": {
      "text/plain": [
       "traj_idx         1.510000e+02\n",
       "speed_mps        2.063421e+01\n",
       "duration_sec     1.200884e+00\n",
       "length_frames    7.000000e+00\n",
       "start_ts         1.546901e+09\n",
       "end_ts           1.546901e+09\n",
       "start_idx        1.000000e+00\n",
       "end_idx          1.000000e+01\n",
       "Name: 0.5, dtype: float64"
      ]
     },
     "execution_count": 59,
     "metadata": {},
     "output_type": "execute_result"
    }
   ],
   "source": [
    "df.quantile(q=0.5)"
   ]
  },
  {
   "cell_type": "code",
   "execution_count": 60,
   "id": "6c50505d-e800-42c0-be59-55be22bebc96",
   "metadata": {},
   "outputs": [
    {
     "data": {
      "text/plain": [
       "8.518059460735344"
      ]
     },
     "execution_count": 60,
     "metadata": {},
     "output_type": "execute_result"
    },
    {
     "data": {
      "image/png": "[encoded data removed]",
      "text/plain": [
       "<Figure size 640x480 with 1 Axes>"
      ]
     },
     "metadata": {},
     "output_type": "display_data"
    }
   ],
   "source": [
    "sns.ecdfplot(data=df, x = \"speed_mps\")\n",
    "plt.axvline(x=gt_velocity_mps.mean())\n",
    "gt_velocity_mps.mean()"
   ]
  },
  {
   "cell_type": "code",
   "execution_count": 61,
   "id": "b7bae598-8f13-4a1d-b51f-51a7e42a7e6c",
   "metadata": {},
   "outputs": [
    {
     "data": {
      "text/plain": [
       "<matplotlib.axes._subplots.AxesSubplot at 0x7f49c9d09950>"
      ]
     },
     "execution_count": 61,
     "metadata": {},
     "output_type": "execute_result"
    },
    {
     "data": {
      "image/png": "[encoded data removed]",
      "text/plain": [
       "<Figure size 640x480 with 1 Axes>"
      ]
     },
     "metadata": {},
     "output_type": "display_data"
    }
   ],
   "source": [
    "sns.histplot(data=df, x = \"duration_sec\", bins=20)"
   ]
  },
  {
   "cell_type": "code",
   "execution_count": 62,
   "id": "3da9e304-0351-4dab-b008-29490f09802b",
   "metadata": {},
   "outputs": [
    {
     "data": {
      "text/plain": [
       "<matplotlib.axes._subplots.AxesSubplot at 0x7f49c9d3a650>"
      ]
     },
     "execution_count": 62,
     "metadata": {},
     "output_type": "execute_result"
    },
    {
     "data": {
      "image/png": "[encoded data removed]",
      "text/plain": [
       "<Figure size 640x480 with 1 Axes>"
      ]
     },
     "metadata": {},
     "output_type": "display_data"
    }
   ],
   "source": [
    "sns.histplot(data=df, x = \"length_frames\", bins=20)"
   ]
  },
  {
   "cell_type": "code",
   "execution_count": 63,
   "id": "d80f4f6a-055b-4ba9-b352-fa978a0d59d9",
   "metadata": {},
   "outputs": [],
   "source": [
    "segs = []\n",
    "for idx, row in df.iterrows():\n",
    "    segs.append(\n",
    "        {\n",
    "            \"traj_idx\": row[\"traj_idx\"],\n",
    "            \"frame_idx\": row[\"start_idx\"],\n",
    "            \"speed_mps\": row[\"speed_mps\"],\n",
    "        }\n",
    "    )\n",
    "    segs.append(\n",
    "        {\n",
    "            \"traj_idx\": row[\"traj_idx\"],\n",
    "            \"frame_idx\": row[\"end_idx\"],\n",
    "            \"speed_mps\": row[\"speed_mps\"],\n",
    "        }\n",
    "    )\n",
    "\n",
    "segs = pd.DataFrame.from_dict(segs)"
   ]
  },
  {
   "cell_type": "code",
   "execution_count": 64,
   "id": "f9cee734-0d77-4bbe-a486-a95d981a3161",
   "metadata": {},
   "outputs": [
    {
     "data": {
      "text/plain": [
       "<matplotlib.axes._subplots.AxesSubplot at 0x7f49c9098fd0>"
      ]
     },
     "execution_count": 64,
     "metadata": {},
     "output_type": "execute_result"
    },
    {
     "data": {
      "image/png": "[encoded data removed]",
      "text/plain": [
       "<Figure size 640x480 with 1 Axes>"
      ]
     },
     "metadata": {},
     "output_type": "display_data"
    }
   ],
   "source": [
    "sns.lineplot(data=segs, x = \"frame_idx\", y = \"traj_idx\", hue = \"traj_idx\")"
   ]
  },
  {
   "cell_type": "code",
   "execution_count": null,
   "id": "35a06d34-ce7a-435c-9604-de6ff0e4a579",
   "metadata": {},
   "outputs": [],
   "source": []
  }
 ],
 "metadata": {
  "kernelspec": {
   "display_name": "Python 3 (ipykernel)",
   "language": "python",
   "name": "python3"
  },
  "language_info": {
   "codemirror_mode": {
    "name": "ipython",
    "version": 3
   },
   "file_extension": ".py",
   "mimetype": "text/x-python",
   "name": "python",
   "nbconvert_exporter": "python",
   "pygments_lexer": "ipython3",
   "version": "3.7.5"
  }
 },
 "nbformat": 4,
 "nbformat_minor": 5
}
